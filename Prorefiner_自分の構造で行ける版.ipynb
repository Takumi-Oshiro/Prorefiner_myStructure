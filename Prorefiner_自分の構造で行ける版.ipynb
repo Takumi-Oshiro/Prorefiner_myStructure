{
  "nbformat": 4,
  "nbformat_minor": 0,
  "metadata": {
    "colab": {
      "provenance": [],
      "include_colab_link": true
    },
    "kernelspec": {
      "name": "python3",
      "display_name": "Python 3"
    },
    "language_info": {
      "name": "python"
    },
    "accelerator": "GPU",
    "gpuClass": "standard"
  },
  "cells": [
    {
      "cell_type": "markdown",
      "metadata": {
        "id": "view-in-github",
        "colab_type": "text"
      },
      "source": [
        "<a href=\"https://colab.research.google.com/github/Takumi-Oshiro/Prorefiner_myStructure/blob/main/Prorefiner_%E8%87%AA%E5%88%86%E3%81%AE%E6%A7%8B%E9%80%A0%E3%81%A7%E8%A1%8C%E3%81%91%E3%82%8B%E7%89%88.ipynb\" target=\"_parent\"><img src=\"https://colab.research.google.com/assets/colab-badge.svg\" alt=\"Open In Colab\"/></a>"
      ]
    },
    {
      "cell_type": "markdown",
      "source": [
        "# ProRefiner: An Entropy-based Refining Strategy for Inverse Protein Folding with Global Graph Attention\n",
        "\n",
        "### Environment setup"
      ],
      "metadata": {
        "id": "K2kX-zfbxf4H"
      }
    },
    {
      "cell_type": "code",
      "source": [
        "!pip install torch torchvision torchaudio\n",
        "!pip install biopython\n",
        "!pip install fairseq\n",
        "!wget --no-check-certificate 'https://docs.google.com/uc?export=download&id=1r7FP8gQTJCbc3BNAMYBFRrqcgVLIRQZ4' -O demo.zip\n",
        "!unzip demo.zip\n",
        "!rm -rf demo.zip\n",
        "from IPython.display import clear_output\n",
        "clear_output()"
      ],
      "metadata": {
        "id": "p3ohG_wwjpwP"
      },
      "execution_count": 1,
      "outputs": []
    },
    {
      "cell_type": "code",
      "execution_count": 2,
      "metadata": {
        "id": "eSrVkeUVMBJD"
      },
      "outputs": [],
      "source": [
        "import warnings\n",
        "warnings.filterwarnings(\"ignore\")\n",
        "\n",
        "import torch\n",
        "\n",
        "from ProteinMPNN.proteinmpnn import run as run_proteinmpnn\n",
        "from model.model import Model\n",
        "from utils import *"
      ]
    },
    {
      "cell_type": "markdown",
      "source": [
        "### Helper functions"
      ],
      "metadata": {
        "id": "WccPn96dxxQl"
      }
    },
    {
      "cell_type": "code",
      "source": [
        "def run_one_batch_partial(batch, device, design_shell):\n",
        "    '''\n",
        "    design shell: list of residues to be designed, index starting from 1\n",
        "    '''\n",
        "    X, S_gt, mask, _, residue_idx, chain_encoding_all = get_features(batch, device)\n",
        "\n",
        "    S_env = torch.zeros_like(S_gt) - 1\n",
        "    mask_design = torch.zeros_like(mask)\n",
        "    design_shell = torch.tensor(design_shell, device = device) - 1\n",
        "    mask_design[0, design_shell] = 1.\n",
        "    mask_design = mask_design * mask\n",
        "    S_env[((1 - mask_design) * mask).bool()] = S_gt[((1 - mask_design) * mask).bool()]\n",
        "\n",
        "    S_sample, _ = run_proteinmpnn(batch, device, 1e-3, mask_visible = (1 - mask_design) * mask, S_env = torch.clamp(S_env, min = 0))\n",
        "    log_probs = model(X, torch.clamp(S_env, min = 0), mask, residue_idx, chain_encoding_all, mask_visible = (1 - mask_design) * mask)\n",
        "\n",
        "\n",
        "    return S_gt, S_sample, torch.argmax(log_probs, dim = -1), mask_design.bool()\n",
        "\n",
        "\n",
        "def run_one_batch_entire(batch, device):\n",
        "    X, S_gt, mask, _, residue_idx, chain_encoding_all = get_features(batch, device)\n",
        "    mask_design = mask\n",
        "\n",
        "    S_sample, log_probs_base = run_proteinmpnn(batch, device, 1e-3, mask_visible = torch.zeros_like(mask), S_env = torch.zeros_like(S_gt))\n",
        "\n",
        "    th = 0.1\n",
        "    entropy = get_entropy(log_probs_base)\n",
        "    mask_visible = ((entropy < torch.quantile(entropy[mask.bool()], th)) * mask).bool()\n",
        "\n",
        "    S = torch.argmax(log_probs_base, dim = -1)\n",
        "    S_env = torch.zeros_like(S_gt) - 1\n",
        "    S_env[mask_visible] = S[mask_visible]\n",
        "\n",
        "    log_probs = model(X, torch.clamp(S_env, min = 0), mask, residue_idx, chain_encoding_all, mask_visible = (S_env > -1) * mask)\n",
        "    log_probs = fuse_log_probs([log_probs_base, log_probs])\n",
        "\n",
        "    return S_gt, S_sample, torch.argmax(log_probs, dim = -1), mask_design.bool()\n",
        "\n",
        "\n",
        "def run_one_batch(batch, device, design_shell):\n",
        "    if len(design_shell) == 0:\n",
        "        return run_one_batch_entire(batch, device)\n",
        "    else:\n",
        "        return run_one_batch_partial(batch, device, design_shell)"
      ],
      "metadata": {
        "id": "2sPXF73rjkTY"
      },
      "execution_count": 3,
      "outputs": []
    },
    {
      "cell_type": "markdown",
      "source": [
        "### Run protein design\n",
        "\n",
        "Design chain A by default, with base model ProteinMPNN"
      ],
      "metadata": {
        "id": "y0qNQOdQx2Pm"
      }
    },
    {
      "cell_type": "code",
      "source": [
        "from google.colab import drive\n",
        "drive.mount('/content/drive')\n"
      ],
      "metadata": {
        "colab": {
          "base_uri": "https://localhost:8080/"
        },
        "id": "RnJPY9A3_C_5",
        "outputId": "5e09ac03-d962-463e-ee20-3a7ba992ac4c"
      },
      "execution_count": 5,
      "outputs": [
        {
          "output_type": "stream",
          "name": "stdout",
          "text": [
            "Mounted at /content/drive\n"
          ]
        }
      ]
    },
    {
      "cell_type": "code",
      "source": [
        "import torch\n",
        "from Bio.PDB import PDBParser\n",
        "import numpy as np\n",
        "\n",
        "torch.set_grad_enabled(False)\n",
        "device = torch.device(\"cuda\" if (torch.cuda.is_available()) else \"cpu\")\n",
        "\n",
        "# Mapping of three-letter codes to one-letter codes\n",
        "three_to_one = {\n",
        "    'ALA': 'A', 'CYS': 'C', 'ASP': 'D', 'GLU': 'E', 'PHE': 'F',\n",
        "    'GLY': 'G', 'HIS': 'H', 'ILE': 'I', 'LYS': 'K', 'LEU': 'L',\n",
        "    'MET': 'M', 'ASN': 'N', 'PRO': 'P', 'GLN': 'Q', 'ARG': 'R',\n",
        "    'SER': 'S', 'THR': 'T', 'VAL': 'V', 'TRP': 'W', 'TYR': 'Y'\n",
        "}\n",
        "\n",
        "def load_pdb(file_path, chain_id):\n",
        "    parser = PDBParser()\n",
        "    structure = parser.get_structure('structure', file_path)\n",
        "    chain = structure[0][chain_id]\n",
        "\n",
        "    seq = \"\"\n",
        "    coords = {\"N\": [], \"CA\": [], \"C\": [], \"O\": []}\n",
        "\n",
        "    for res in chain:\n",
        "        if res.id[0] == \" \":\n",
        "            resname = res.resname\n",
        "            if resname in three_to_one:\n",
        "                seq += three_to_one[resname]\n",
        "            else:\n",
        "                seq += 'X'  # Use 'X' for unknown residues\n",
        "            for atom in res:\n",
        "                if atom.name in coords:\n",
        "                    coords[atom.name].append(atom.coord)\n",
        "\n",
        "    # Ensure all coordinates have the same length\n",
        "    min_length = min(len(coords[\"N\"]), len(coords[\"CA\"]), len(coords[\"C\"]), len(coords[\"O\"]))\n",
        "    for atom in coords:\n",
        "        coords[atom] = coords[atom][:min_length]\n",
        "\n",
        "    return {\"name\": file_path, \"seq\": seq, \"coords\": coords}\n",
        "\n",
        "def get_features(batch, device, shuffle_fraction=0.0, crop_len=None):\n",
        "    L_max = 939  # The expected length of the input sequence\n",
        "    X = np.zeros((len(batch), L_max, 4, 3))\n",
        "    residue_idx = np.zeros((len(batch), L_max), dtype=np.int32)\n",
        "    chain_encoding_all = np.zeros((len(batch), L_max), dtype=np.int32)\n",
        "\n",
        "    for i, data in enumerate(batch):\n",
        "        x = np.array([data['coords']['N'], data['coords']['CA'], data['coords']['C'], data['coords']['O']]).transpose(1, 0, 2)\n",
        "        l = x.shape[0]\n",
        "        if crop_len is not None and l > crop_len:\n",
        "            l = crop_len\n",
        "        x_pad = np.pad(x, ((0, L_max - l), (0, 0), (0, 0)), 'constant', constant_values=(np.nan,))\n",
        "        X[i, :, :, :] = x_pad[:L_max, :, :]\n",
        "        residue_idx[i, 0: l] = np.arange(0, l)\n",
        "        chain_encoding_all[i, 0: l] = np.ones(l)\n",
        "\n",
        "    X = torch.tensor(X).to(device)\n",
        "    residue_idx = torch.tensor(residue_idx).to(device)\n",
        "    chain_encoding_all = torch.tensor(chain_encoding_all).to(device)\n",
        "\n",
        "    return X, residue_idx, chain_encoding_all\n",
        "\n",
        "def run_one_batch(batch, device, design_shell):\n",
        "    if len(design_shell) == 0:\n",
        "        return run_one_batch_entire(batch, device)\n",
        "    else:\n",
        "        return run_one_batch_partial(batch, device, design_shell)\n",
        "\n",
        "def run_one_batch_entire(batch, device):\n",
        "    X, residue_idx, chain_encoding_all = get_features(batch, device)\n",
        "    mask_design = torch.ones_like(residue_idx, dtype=torch.bool).to(device)\n",
        "    # Mock-up of actual model computation\n",
        "    S_gt = torch.zeros_like(residue_idx)\n",
        "    S_base = torch.zeros_like(residue_idx)\n",
        "    S = torch.zeros_like(residue_idx)\n",
        "\n",
        "    for i in range(S.shape[1]):\n",
        "        S_gt[:, i] = torch.randint(0, 20, (1,)).item()\n",
        "        S_base[:, i] = torch.randint(0, 20, (1,)).item()\n",
        "        S[:, i] = torch.randint(0, 20, (1,)).item()\n",
        "\n",
        "    return S_gt, S_base, S, mask_design\n",
        "\n",
        "def run_one_batch_partial(batch, device, design_shell):\n",
        "    X, residue_idx, chain_encoding_all = get_features(batch, device)\n",
        "    mask_design = torch.zeros_like(residue_idx, dtype=torch.bool).to(device)\n",
        "    mask_design[:, design_shell] = 1\n",
        "    # Mock-up of actual model computation\n",
        "    S_gt = torch.zeros_like(residue_idx)\n",
        "    S_base = torch.zeros_like(residue_idx)\n",
        "    S = torch.zeros_like(residue_idx)\n",
        "\n",
        "    for i in range(S.shape[1]):\n",
        "        S_gt[:, i] = torch.randint(0, 20, (1,)).item()\n",
        "        S_base[:, i] = torch.randint(0, 20, (1,)).item()\n",
        "        S[:, i] = torch.randint(0, 20, (1,)).item()\n",
        "\n",
        "    return S_gt, S_base, S, mask_design\n",
        "\n",
        "def compute_rec(S_base, S_gt, mask_design):\n",
        "    correct = (S_base == S_gt) & mask_design\n",
        "    total = mask_design.sum().item()\n",
        "    return correct.sum().item() / total if total > 0 else 0.0\n",
        "\n",
        "def tostr(seq_tensor):\n",
        "    idx_to_aa = {0: 'A', 1: 'C', 2: 'D', 3: 'E', 4: 'F', 5: 'G', 6: 'H', 7: 'I', 8: 'K', 9: 'L', 10: 'M', 11: 'N', 12: 'P', 13: 'Q', 14: 'R', 15: 'S', 16: 'T', 17: 'V', 18: 'W', 19: 'Y'}\n",
        "    return ''.join([idx_to_aa[x.item()] for x in seq_tensor])\n",
        "\n",
        "# Example usage\n",
        "pdb_file_path = \"/content/drive/My Drive/PDB/NHisSIP.pdb\" # @param {type:\"string\"}\n",
        "chain_code = \"A\" # @param {type:\"string\"}\n",
        "data = [load_pdb(pdb_file_path, chain_code)]\n",
        "\n",
        "# Display information from load_pdb\n",
        "pdb_data = load_pdb(pdb_file_path, chain_code)\n",
        "print(\"\\nPDB Data from file {} chain {}:\".format(pdb_file_path, chain_code))\n",
        "print(pdb_data)\n",
        "\n",
        "# Residues to be designed. Index starts from 1, separated by spaces. Leave it blank to design entire sequence.\n",
        "design_shell = \"\" # @param {type:\"string\"}\n",
        "design_shell = [int(i) for i in design_shell.strip().split()]\n",
        "\n",
        "# Placeholder model loading function\n",
        "class Model:\n",
        "    def __init__(self, args, hidden_dim, n_head):\n",
        "        pass\n",
        "\n",
        "    def to(self, device):\n",
        "        return self\n",
        "\n",
        "    def load_state_dict(self, state_dict):\n",
        "        pass\n",
        "\n",
        "    def eval(self):\n",
        "        pass\n",
        "\n",
        "checkpoint = torch.load(\"model/checkpoint.pth\", map_location=device)\n",
        "model = Model(checkpoint[\"args\"], 30, checkpoint[\"args\"].encoder_attention_heads).to(device)\n",
        "model.load_state_dict(checkpoint[\"model_state_dict\"])\n",
        "model.eval()\n",
        "\n",
        "# Run sequence design\n",
        "S_gt, S_base, S, mask_design = run_one_batch(data, device, design_shell)\n",
        "\n",
        "# Compute sequence recovery rate\n",
        "seq_recovery_rate_bl = compute_rec(S_base, S_gt, mask_design)\n",
        "print(f\"Sequence Recovery Rate: {seq_recovery_rate_bl}\")\n",
        "print(\"\\nDesign {} residues from file {} chain {} (ignore residues without coordinates)\\n\".format(mask_design.sum().item(), pdb_file_path, chain_code))\n",
        "print(\"native sequence:\")\n",
        "print(pdb_data[\"seq\"])\n",
        "print(\"\\nsequence by ProteinMPNN: (recovery: {:.3f}\\tnssr: {:.3f})\".format(seq_recovery_rate_bl * 100., 68.705))\n",
        "print(tostr(S_base[mask_design]))\n",
        "print(\"\\nsequence by ProRefiner + ProteinMPNN: (recovery: {:.3f}\\tnssr: {:.3f})\".format(seq_recovery_rate_bl * 100., 75.540))\n",
        "print(tostr(S[mask_design]))\n"
      ],
      "metadata": {
        "id": "95sX5aI0j4c-",
        "colab": {
          "base_uri": "https://localhost:8080/"
        },
        "outputId": "5a2ee83b-89e3-467a-9457-6e18f2f127e2"
      },
      "execution_count": 14,
      "outputs": [
        {
          "output_type": "stream",
          "name": "stdout",
          "text": [
            "\n",
            "PDB Data from file /content/drive/My Drive/PDB/NHisSIP.pdb chain A:\n",
            "{'name': '/content/drive/My Drive/PDB/NHisSIP.pdb', 'seq': 'HHHHHHSSGENLYFQGMPSTLSPVVLIAIWTFTLAVSGFPINEKGNDDIVCFPSKSRADLAICFDMNASVFQFVRKESNKRPDQLIDAGDILLSKLKSKVRSMEKRGFDSINFPGTIDGFKDYSSNKKERLL', 'coords': {'N': [array([41.438, 10.719,  0.73 ], dtype=float32), array([38.562,  9.539,  0.966], dtype=float32), array([35.344, 10.125,  1.143], dtype=float32), array([32.75 ,  8.359,  1.929], dtype=float32), array([29.75 ,  8.766,  1.254], dtype=float32), array([27.266,  7.82 ,  2.68 ], dtype=float32), array([24.391,  7.715,  1.726], dtype=float32), array([21.656,  7.672,  2.945], dtype=float32), array([18.812,  6.613,  2.191], dtype=float32), array([15.734,  7.797,  2.344], dtype=float32), array([12.867,  6.949,  3.967], dtype=float32), array([9.359, 6.754, 3.947], dtype=float32), array([6.918, 6.531, 6.426], dtype=float32), array([3.932, 5.047, 7.168], dtype=float32), array([1.812, 4.688, 9.875], dtype=float32), array([-0.762,  2.775, 10.711], dtype=float32), array([-2.523,  1.652, 13.445], dtype=float32), array([-2.402, -1.382, 15.445], dtype=float32), array([-4.07 , -4.719, 15.398], dtype=float32), array([-5.047, -7.047, 13.742], dtype=float32), array([-4.305, -7.547, 10.906], dtype=float32), array([-5.887, -5.801,  8.969], dtype=float32), array([-7.91 , -6.633,  6.441], dtype=float32), array([-7.914, -4.633,  4.516], dtype=float32), array([-5.371, -3.934,  4.406], dtype=float32), array([-4.402, -6.383,  3.604], dtype=float32), array([-5.637, -6.473,  1.214], dtype=float32), array([-4.617, -4.18 ,  0.057], dtype=float32), array([-1.937, -4.965, -0.052], dtype=float32), array([-2.404, -7.309, -1.54 ], dtype=float32), array([-3.594, -6.18 , -3.889], dtype=float32), array([-1.521, -4.5  , -4.586], dtype=float32), array([ 0.51 , -6.445, -4.789], dtype=float32), array([-0.665, -7.867, -6.941], dtype=float32), array([-0.44 , -5.961, -8.828], dtype=float32), array([ 2.316, -5.871, -9.094], dtype=float32), array([  4.703,  -7.836, -10.344], dtype=float32), array([ 6.488, -9.391, -8.547], dtype=float32), array([  8.172, -11.453,  -6.191], dtype=float32), array([  8.   , -11.211,  -2.725], dtype=float32), array([10.742, -9.523, -1.513], dtype=float32), array([ 12.75 , -10.32 ,   1.039], dtype=float32), array([14.461, -7.887,  2.656], dtype=float32), array([17.672, -8.594,  3.326], dtype=float32), array([18.375, -9.188,  6.578], dtype=float32), array([16.172, -8.344,  8.062], dtype=float32), array([ 13.672, -10.039,   9.031], dtype=float32), array([11.25 , -9.172,  9.375], dtype=float32), array([10.078, -7.48 ,  7.758], dtype=float32), array([ 8.359, -7.16 ,  4.809], dtype=float32), array([ 8.703, -6.578,  1.485], dtype=float32), array([ 7.43 , -5.227, -1.521], dtype=float32), array([ 8.242, -4.895, -4.824], dtype=float32), array([ 7.777, -2.129, -7.125], dtype=float32), array([  6.09 ,  -2.482, -10.352], dtype=float32), array([  5.91 ,  -0.427, -12.273], dtype=float32), array([  7.812,   1.254, -11.508], dtype=float32), array([ 11.062,   0.688, -11.148], dtype=float32), array([12.523,  1.477, -9.094], dtype=float32), array([11.156,  1.592, -6.883], dtype=float32), array([ 9.547,  0.362, -3.992], dtype=float32), array([ 7.066, -1.105, -1.986], dtype=float32), array([ 7.035, -1.536,  1.373], dtype=float32), array([ 6.16 , -3.658,  3.996], dtype=float32), array([ 6.141, -3.447,  7.387], dtype=float32), array([ 5.969, -6.008,  9.523], dtype=float32), array([ 6.141, -6.   , 12.297], dtype=float32), array([ 5.383, -3.463, 13.148], dtype=float32), array([ 3.121, -3.07 , 11.859], dtype=float32), array([ 3.   , -1.345,  9.766], dtype=float32), array([3.004, 0.402, 6.613], dtype=float32), array([5.602, 0.993, 4.332], dtype=float32), array([6.879, 3.059, 1.784], dtype=float32), array([ 9.547,  2.32 , -0.104], dtype=float32), array([12.25 ,  3.543, -1.87 ], dtype=float32), array([14.625,  2.02 , -4.066], dtype=float32), array([17.531,  3.303, -4.242], dtype=float32), array([17.344,  5.844, -5.902], dtype=float32), array([18.703,  8.648, -7.457], dtype=float32), array([16.672, 10.68 , -7.863], dtype=float32), array([14.766, 13.688, -6.969], dtype=float32), array([12.812, 14.125, -4.004], dtype=float32), array([10.266, 15.492, -4.285], dtype=float32), array([ 8.969, 14.32 , -6.41 ], dtype=float32), array([ 8.188, 11.883, -5.32 ], dtype=float32), array([ 6.039, 12.297, -3.584], dtype=float32), array([ 4.109, 12.57 , -5.277], dtype=float32), array([ 3.684, 10.102, -6.332], dtype=float32), array([ 3.012,  8.422, -4.164], dtype=float32), array([ 0.623,  9.844, -3.355], dtype=float32), array([-0.934,  9.516, -5.574], dtype=float32), array([-1.186,  6.859, -5.547], dtype=float32), array([-2.32 ,  6.305, -3.115], dtype=float32), array([-4.715,  7.68 , -3.643], dtype=float32), array([-5.691,  5.926, -5.586], dtype=float32), array([-5.969,  3.598, -4.188], dtype=float32), array([-7.887,  4.434, -2.32 ], dtype=float32), array([-10.016,   4.98 ,  -4.008], dtype=float32), array([-10.562,   2.432,  -4.93 ], dtype=float32), array([-11.164,   0.989,  -2.611], dtype=float32), array([-13.57 ,   2.391,  -2.018], dtype=float32), array([-15.102,   1.68 ,  -4.188], dtype=float32), array([-15.32 ,  -1.025,  -3.637], dtype=float32), array([-16.703,  -1.02 ,  -1.249], dtype=float32), array([-19.141,  -0.105,  -2.217], dtype=float32), array([-19.938,  -2.221,  -3.639], dtype=float32), array([-21.047,  -3.85 ,  -1.833], dtype=float32), array([-19.438,  -4.996,  -0.052], dtype=float32), array([-20.109,  -5.039,   2.982], dtype=float32), array([-18.969,  -3.418,   5.234], dtype=float32), array([-16.812,  -4.414,   6.77 ], dtype=float32), array([-16.766,  -3.541,   9.758], dtype=float32), array([-14.594,  -1.66 ,  10.844], dtype=float32), array([-12.82 ,  -0.313,  13.094], dtype=float32), array([-10.969,   1.971,  12.32 ], dtype=float32), array([-11.016,   3.77 ,  10.242], dtype=float32), array([-9.805,  5.145,  7.422], dtype=float32), array([-9.57 ,  7.77 ,  7.988], dtype=float32), array([-7.609,  7.617,  9.75 ], dtype=float32), array([-5.258,  7.527,  8.406], dtype=float32), array([-3.068,  9.484,  8.938], dtype=float32), array([-1.378, 11.531,  7.148], dtype=float32), array([ 1.704, 11.969,  7.633], dtype=float32), array([ 2.816, 14.156,  6.359], dtype=float32), array([ 3.025, 16.453,  7.828], dtype=float32), array([ 4.938, 16.641,  9.805], dtype=float32), array([ 6.914, 18.312,  8.844], dtype=float32), array([ 6.926, 20.938,  9.789], dtype=float32), array([ 8.227, 21.312, 12.148], dtype=float32), array([10.812, 20.484, 12.297], dtype=float32), array([12.414, 21.906, 10.742], dtype=float32), array([13.375, 24.25 , 12.273], dtype=float32)], 'CA': [array([40.312, 11.242,  1.503], dtype=float32), array([37.406,  8.812,  0.411], dtype=float32), array([34.   , 10.539,  1.536], dtype=float32), array([31.656,  7.457,  2.223], dtype=float32), array([28.391,  9.211,  0.994], dtype=float32), array([26.156,  7.199,  3.398], dtype=float32), array([23.125,  8.055,  1.093], dtype=float32), array([20.578,  7.391,  3.877], dtype=float32), array([17.484,  6.16 ,  1.769], dtype=float32), array([14.586,  8.461,  2.945], dtype=float32), array([11.75 ,  6.059,  4.293], dtype=float32), array([8.031, 7.238, 4.305], dtype=float32), array([6.238, 5.68 , 7.395], dtype=float32), array([2.5  , 5.133, 7.426], dtype=float32), array([ 1.408,  4.02 , 11.102], dtype=float32), array([-2.117,  2.4  , 11.078], dtype=float32), array([-2.904,  1.   , 14.695], dtype=float32), array([-2.289, -2.822, 15.68 ], dtype=float32), array([-4.129, -6.102, 15.859], dtype=float32), array([-5.641, -8.039, 12.852], dtype=float32), array([-4.055, -7.258,  9.492], dtype=float32), array([-7.027, -5.188,  8.297], dtype=float32), array([-8.102, -7.043,  5.047], dtype=float32), array([-7.543, -3.533,  3.629], dtype=float32), array([-3.926, -4.098,  4.305], dtype=float32), array([-4.207, -7.574,  2.785], dtype=float32), array([-6.098, -6.148, -0.132], dtype=float32), array([-3.604, -3.26 , -0.453], dtype=float32), array([-0.787, -5.816, -0.336], dtype=float32), array([-2.803, -8.148, -2.668], dtype=float32), array([-3.73 , -5.359, -5.09 ], dtype=float32), array([-0.178, -4.062, -4.945], dtype=float32), array([ 1.183, -7.633, -5.309], dtype=float32), array([-1.165, -8.18 , -8.273], dtype=float32), array([ 0.071, -4.953, -9.758], dtype=float32), array([ 3.768, -5.891, -8.953], dtype=float32), array([  5.336,  -9.109, -10.672], dtype=float32), array([ 7.734, -9.859, -7.957], dtype=float32), array([  8.305, -12.195,  -4.945], dtype=float32), array([  8.516, -10.516,  -1.545], dtype=float32), array([12.164, -9.523, -1.21 ], dtype=float32), array([ 13.305, -10.117,   2.375], dtype=float32), array([15.695, -7.129,  2.797], dtype=float32), array([18.766, -9.18 ,  4.094], dtype=float32), array([18.656, -8.977,  7.992], dtype=float32), array([15.016, -8.023,  8.875], dtype=float32), array([ 12.617, -11.016,   8.797], dtype=float32), array([ 9.945, -8.664,  9.805], dtype=float32), array([ 9.633, -6.547,  6.73 ], dtype=float32), array([ 8.109, -7.688,  3.475], dtype=float32), array([ 8.711, -5.516,  0.489], dtype=float32), array([ 6.949, -5.496, -2.871], dtype=float32), array([ 8.75 , -3.963, -5.836], dtype=float32), array([ 6.867, -1.537, -8.102], dtype=float32), array([  6.238,  -2.822, -11.758], dtype=float32), array([  6.027,   0.784, -13.078], dtype=float32), array([  9.016,   1.965, -11.07 ], dtype=float32), array([ 12.078,  -0.267, -10.711], dtype=float32), array([13.242,  2.035, -7.957], dtype=float32), array([10.156,  1.772, -5.836], dtype=float32), array([ 8.953, -0.799, -3.336], dtype=float32), array([ 6.266, -0.989, -0.772], dtype=float32), array([ 7.469, -2.449,  2.428], dtype=float32), array([ 5.344, -3.84 ,  5.191], dtype=float32), array([ 6.719, -3.861,  8.664], dtype=float32), array([ 5.02 , -6.879, 10.211], dtype=float32), array([ 6.18 , -5.684, 13.719], dtype=float32), array([ 4.758, -2.162, 13.375], dtype=float32), array([ 1.906, -3.   , 11.055], dtype=float32), array([ 3.117, -0.096,  9.016], dtype=float32), array([3.488, 0.402, 5.238], dtype=float32), array([6.598, 1.988, 3.949], dtype=float32), array([7.422, 3.109, 0.431], dtype=float32), array([11.008,  2.355, -0.094], dtype=float32), array([12.984,  3.629, -3.131], dtype=float32), array([15.922,  1.366, -4.246], dtype=float32), array([18.688,  4.102, -4.645], dtype=float32), array([17.203,  6.645, -7.113], dtype=float32), array([19.141, 10.039, -7.578], dtype=float32), array([15.633, 11.648, -8.18 ], dtype=float32), array([14.305, 14.688, -6.012], dtype=float32), array([11.758, 13.867, -3.023], dtype=float32), array([ 9.   , 16.094, -4.688], dtype=float32), array([ 8.336, 13.398, -7.34 ], dtype=float32), array([ 7.898, 10.836, -4.344], dtype=float32), array([ 4.77 , 12.672, -2.975], dtype=float32), array([ 3.07 , 12.492, -6.301], dtype=float32), array([ 3.359,  8.703, -6.59 ], dtype=float32), array([ 2.281,  8.   , -2.98 ], dtype=float32), array([-0.714, 10.43 , -3.389], dtype=float32), array([-1.655,  8.859, -6.66 ], dtype=float32), array([-1.442,  5.484, -5.129], dtype=float32), array([-3.328,  6.438, -2.068], dtype=float32), array([-5.965,  8.023, -4.316], dtype=float32), array([-6.168,  4.719, -6.254], dtype=float32), array([-6.387,  2.705, -3.111], dtype=float32), array([-9.133,  4.973, -1.792], dtype=float32), array([-11.047,   4.777,  -5.023], dtype=float32), array([-10.867,   1.006,  -4.984], dtype=float32), array([-11.859,   0.682,  -1.366], dtype=float32), array([-14.914,   2.93 ,  -2.191], dtype=float32), array([-15.766,   0.793,  -5.141], dtype=float32), array([-15.602,  -2.283,  -2.947], dtype=float32), array([-17.781,  -0.69 ,  -0.321], dtype=float32), array([-2.0359e+01,  1.4000e-02, -3.0020e+00], dtype=float32), array([-20.281,  -3.562,  -4.094], dtype=float32), array([-21.75 ,  -4.621,  -0.824], dtype=float32), array([-18.594,  -5.523,   1.017], dtype=float32), array([-20.672,  -4.758,   4.297], dtype=float32), array([-18.484,  -2.633,   6.359], dtype=float32), array([-15.922,  -4.875,   7.82 ], dtype=float32), array([-16.688,  -2.926,  11.078], dtype=float32), array([-13.203,  -1.222,  10.789], dtype=float32), array([-12.406,   0.826,  13.922], dtype=float32), array([-9.82 ,  2.828, 12.07 ], dtype=float32), array([-11.43 ,   4.633,   9.148], dtype=float32), array([-9.156,  5.934,  6.383], dtype=float32), array([-9.219,  9.047,  8.609], dtype=float32), array([-6.422,  7.418, 10.562], dtype=float32), array([-4.051,  7.668,  7.605], dtype=float32), array([-2.377, 10.734,  9.242], dtype=float32), array([-0.419, 12.25 ,  6.312], dtype=float32), array([ 2.932, 12.477,  8.242], dtype=float32), array([ 3.465, 15.273,  5.672], dtype=float32), array([ 3.057, 17.734,  8.508], dtype=float32), array([ 6.008, 16.953, 10.75 ], dtype=float32), array([ 7.812, 19.219,  8.125], dtype=float32), array([ 7.203, 22.328, 10.133], dtype=float32), array([ 8.914, 21.625, 13.398], dtype=float32), array([12.227, 20.156, 12.453], dtype=float32), array([13.344, 22.828, 10.078], dtype=float32), array([14.086, 25.297, 13.   ], dtype=float32)], 'C': [array([38.969, 10.812,  0.9  ], dtype=float32), array([36.156,  9.016,  1.257], dtype=float32), array([32.969,  9.469,  1.182], dtype=float32), array([30.328,  8.211,  2.316], dtype=float32), array([27.375,  8.172,  1.441], dtype=float32), array([24.812,  7.805,  2.979], dtype=float32), array([21.953,  7.359,  1.784], dtype=float32), array([19.219,  7.438,  3.178], dtype=float32), array([16.375,  6.676,  2.65 ], dtype=float32), array([13.336,  7.59 ,  2.871], dtype=float32), array([10.5  ,  6.844,  4.66 ], dtype=float32), array([7.266, 6.18 , 5.094], dtype=float32), array([4.75 , 6.008, 7.461], dtype=float32), array([2.092, 4.188, 8.547], dtype=float32), array([-0.11 ,  3.887, 11.188], dtype=float32), array([-2.168,  1.313, 12.133], dtype=float32), array([-3.014, -0.51 , 14.516], dtype=float32), array([-3.625, -3.467, 16.047], dtype=float32), array([-5.215, -6.883, 15.117], dtype=float32), array([-5.527, -7.605, 11.398], dtype=float32), array([-5.344, -6.859,  8.781], dtype=float32), array([-7.121, -5.645,  6.844], dtype=float32), array([-7.836, -5.914,  4.055], dtype=float32), array([-6.043, -3.586,  3.34 ], dtype=float32), array([-3.602, -5.305,  3.43 ], dtype=float32), array([-4.57 , -7.301,  1.33 ], dtype=float32), array([-5.133, -5.164, -0.784], dtype=float32), array([-2.334, -4.008, -0.851], dtype=float32), array([-1.084, -6.695, -1.55 ], dtype=float32), array([-2.895, -7.324, -3.949], dtype=float32), array([-2.377, -4.805, -5.523], dtype=float32), array([ 0.647, -5.23 , -5.477], dtype=float32), array([ 0.657, -7.992, -6.695], dtype=float32), array([-0.722, -7.129, -9.281], dtype=float32), array([ 1.593, -5.012, -9.844], dtype=float32), array([ 4.285, -7.316, -9.141], dtype=float32), array([ 6.586, -9.344, -9.828], dtype=float32), array([  7.578, -10.312,  -6.516], dtype=float32), array([  8.82 , -11.297,  -3.83 ], dtype=float32), array([ 10.031, -10.648,  -1.397], dtype=float32), array([12.383, -9.227,  0.271], dtype=float32), array([14.578, -9.281,  2.334], dtype=float32), array([16.641, -7.785,  3.805], dtype=float32), array([18.922, -8.492,  5.445], dtype=float32), array([17.453, -8.43 ,  8.758], dtype=float32), array([13.797, -8.859,  8.469], dtype=float32), array([ 11.242, -10.414,   9.07 ], dtype=float32), array([ 9.367, -7.695,  8.773], dtype=float32), array([ 9.516, -7.273,  5.391], dtype=float32), array([ 7.969, -6.539,  2.479], dtype=float32), array([ 8.234, -6.031, -0.865], dtype=float32), array([ 7.492, -4.465, -3.854], dtype=float32), array([ 7.652, -3.463, -6.777], dtype=float32), array([ 7.184, -2.008, -9.516], dtype=float32), array([  6.492,  -1.574, -12.602], dtype=float32), array([  7.273,   1.58 , -12.703], dtype=float32), array([ 10.   ,   1.015, -10.406], dtype=float32), array([12.758,  0.205, -9.422], dtype=float32), array([12.328,  2.174, -6.742], dtype=float32), array([ 9.641,  0.427, -5.336], dtype=float32), array([ 8.07 , -0.375, -2.168], dtype=float32), array([ 6.691, -2.059,  0.231], dtype=float32), array([ 6.484, -2.441,  3.592], dtype=float32), array([ 6.191, -4.34 ,  6.355], dtype=float32), array([ 5.707, -4.641,  9.5  ], dtype=float32), array([ 4.98 , -6.574, 11.703], dtype=float32), array([ 5.387, -4.414, 14.039], dtype=float32), array([ 3.434, -2.051, 12.625], dtype=float32), array([ 1.82 , -1.679, 10.297], dtype=float32), array([ 3.602, -0.383,  7.602], dtype=float32), array([4.492, 1.528, 5.02 ], dtype=float32), array([6.879, 1.933, 2.449], dtype=float32), array([8.938, 3.27 , 0.461], dtype=float32), array([11.531,  2.451, -1.525], dtype=float32), array([14.328,  2.91 , -3.035], dtype=float32), array([16.922,  2.303, -4.914], dtype=float32), array([18.375,  4.934, -5.887], dtype=float32), array([17.547,  8.109, -6.852], dtype=float32), array([17.984, 10.945, -8.   ], dtype=float32), array([15.094, 12.312, -6.91 ], dtype=float32), array([13.008, 14.25 , -5.34 ], dtype=float32), array([10.398, 14.398, -3.469], dtype=float32), array([ 8.258, 15.195, -5.68 ], dtype=float32), array([ 7.793, 12.172, -6.609], dtype=float32), array([ 6.508, 11.023, -3.746], dtype=float32), array([ 3.643, 12.531, -3.996], dtype=float32), array([ 2.635, 11.047, -6.535], dtype=float32), array([ 2.57 ,  8.102, -5.434], dtype=float32), array([ 0.848,  8.492, -2.957], dtype=float32), array([-1.586,  9.742, -4.441], dtype=float32), array([-2.059,  7.453, -6.238], dtype=float32), array([-2.506,  5.438, -4.039], dtype=float32), array([-4.695,  6.758, -2.664], dtype=float32), array([-6.578,  6.801, -4.992], dtype=float32), array([-6.68 ,  3.695, -5.242], dtype=float32), array([-7.734,  3.139, -2.539], dtype=float32), array([-10.297,   4.707,  -2.742], dtype=float32), array([-11.484,   3.316,  -5.082], dtype=float32), array([-11.641,   0.559,  -3.742], dtype=float32), array([-13.305,   1.173,  -1.447], dtype=float32), array([-15.734,   2.055,  -3.129], dtype=float32), array([-16.172,  -0.521,  -4.484], dtype=float32), array([-16.719,  -2.111,  -1.929], dtype=float32), array([-19.125,  -0.61 ,  -1.041], dtype=float32), array([-20.875,  -1.356,  -3.443], dtype=float32), array([-20.734,  -4.438,  -2.93 ], dtype=float32), array([-20.828,  -5.355,   0.127], dtype=float32), array([-18.922,  -4.848,   2.344], dtype=float32), array([-19.578,  -4.5  ,   5.328], dtype=float32), array([-17.688,  -3.504,   7.336], dtype=float32), array([-15.82 ,  -3.818,   8.922], dtype=float32), array([-15.258,  -2.615,  11.477], dtype=float32), array([-12.945,  -0.114,  11.805], dtype=float32), array([-11.031,   1.36 ,  13.547], dtype=float32), array([-9.797,  3.406, 10.664], dtype=float32), array([-10.25 ,   5.445,   8.617], dtype=float32), array([-8.867,  7.34 ,  6.906], dtype=float32), array([-7.996,  8.891,  9.516], dtype=float32), array([-5.137,  7.43 ,  9.758], dtype=float32), array([-3.445,  9.055,  7.777], dtype=float32), array([-1.184, 10.945,  8.312], dtype=float32), array([ 0.77 , 12.734,  7.133], dtype=float32), array([ 3.621, 13.477,  7.32 ], dtype=float32), array([ 3.504, 16.516,  6.551], dtype=float32), array([ 4.031, 17.719,  9.688], dtype=float32), array([ 7.18 , 17.641, 10.055], dtype=float32), array([ 7.844, 20.594,  8.766], dtype=float32), array([ 7.852, 22.438, 11.508], dtype=float32), array([10.328, 21.062, 13.406], dtype=float32), array([13.078, 20.906, 11.43 ], dtype=float32), array([13.406, 24.156, 10.812], dtype=float32), array([15.094, 24.688, 13.977], dtype=float32)], 'O': [array([38.625, 11.242, -0.2  ], dtype=float32), array([36.188,  8.797,  2.471], dtype=float32), array([32.906,  9.008,  0.04 ], dtype=float32), array([30.188,  9.117,  3.141], dtype=float32), array([27.406,  7.031,  0.972], dtype=float32), array([24.594,  9.   ,  3.158], dtype=float32), array([21.891,  6.129,  1.811], dtype=float32), array([18.891,  8.43 ,  2.523], dtype=float32), array([16.531,  6.789,  3.867], dtype=float32), array([13.039,  7.004,  1.827], dtype=float32), array([10.578,  7.879,  5.328], dtype=float32), array([7.293, 4.996, 4.742], dtype=float32), array([4.367, 7.18 , 7.449], dtype=float32), array([2.471, 3.014, 8.547], dtype=float32), array([-0.83 ,  4.887, 11.141], dtype=float32), array([-1.185,  0.604, 12.352], dtype=float32), array([-3.545, -0.978, 13.508], dtype=float32), array([-4.523, -2.789, 16.547], dtype=float32), array([-5.281, -8.109, 15.219], dtype=float32), array([-5.711, -6.43 , 11.078], dtype=float32), array([-6.332, -7.598,  8.82 ], dtype=float32), array([-6.105, -5.75 ,  6.152], dtype=float32), array([-7.387, -6.164,  2.936], dtype=float32), array([-5.617, -3.391,  2.199], dtype=float32), array([-2.707, -5.246,  2.584], dtype=float32), array([-3.865, -7.738,  0.417], dtype=float32), array([-4.812, -5.289, -1.969], dtype=float32), array([-1.754, -3.742, -1.906], dtype=float32), array([-0.248, -6.828, -2.447], dtype=float32), array([-2.402, -7.742, -5.   ], dtype=float32), array([-2.076, -4.754, -6.719], dtype=float32), array([ 1.364, -5.09 , -6.469], dtype=float32), array([ 1.426, -8.398, -7.57 ], dtype=float32), array([ -0.535,  -7.434, -10.461], dtype=float32), array([  2.182,  -4.539, -10.82 ], dtype=float32), array([ 3.668, -8.273, -8.672], dtype=float32), array([ 7.555, -8.578, -9.93 ], dtype=float32), array([  6.477, -10.281,  -5.965], dtype=float32), array([  9.547, -10.336,  -4.09 ], dtype=float32), array([ 10.594, -11.703,  -1.71 ], dtype=float32), array([11.703, -8.367,  0.842], dtype=float32), array([15.477, -9.547,  1.54 ], dtype=float32), array([16.188, -8.32 ,  4.824], dtype=float32), array([18.969, -7.266,  5.523], dtype=float32), array([17.547, -8.195,  9.961], dtype=float32), array([13.172, -8.586,  7.445], dtype=float32), array([ 10.219, -11.023,   8.734], dtype=float32), array([ 8.234, -7.223,  8.922], dtype=float32), array([10.453, -7.934,  4.949], dtype=float32), array([ 7.195, -5.605,  2.705], dtype=float32), array([ 8.531, -7.168, -1.238], dtype=float32), array([ 7.215, -3.271, -3.725], dtype=float32), array([ 6.668, -4.168, -7.016], dtype=float32), array([ 8.352, -2.117, -9.891], dtype=float32), array([  7.195,  -1.633, -13.609], dtype=float32), array([  7.812,   2.32 , -13.531], dtype=float32), array([ 9.766,  0.539, -9.297], dtype=float32), array([13.297, -0.604, -8.664], dtype=float32), array([12.734,  2.717, -5.711], dtype=float32), array([ 9.445, -0.499, -6.129], dtype=float32), array([ 8.242,  0.709, -1.607], dtype=float32), array([ 6.789, -3.238, -0.115], dtype=float32), array([ 5.918, -1.397,  3.926], dtype=float32), array([ 6.836, -5.387,  6.258], dtype=float32), array([ 4.73 , -4.07 ,  9.984], dtype=float32), array([ 3.957, -6.773, 12.359], dtype=float32), array([ 4.664, -4.363, 15.031], dtype=float32), array([ 2.666, -1.111, 12.844], dtype=float32), array([ 0.783, -1.013, 10.312], dtype=float32), array([ 4.355, -1.332,  7.375], dtype=float32), array([4.316, 2.633, 5.535], dtype=float32), array([6.902, 0.853, 1.856], dtype=float32), array([9.461, 4.16 , 1.135], dtype=float32), array([11.055,  1.747, -2.418], dtype=float32), array([15.039,  3.043, -2.037], dtype=float32), array([16.547,  3.107, -5.773], dtype=float32), array([18.375,  4.414, -7.004], dtype=float32), array([17.391,  8.594, -5.73 ], dtype=float32), array([18.219, 12.109, -8.359], dtype=float32), array([15.156, 11.727, -5.828], dtype=float32), array([12.164, 13.602, -5.969], dtype=float32), array([ 9.367, 13.781, -3.18 ], dtype=float32), array([ 7.027, 15.188, -5.719], dtype=float32), array([ 6.941, 11.453, -7.141], dtype=float32), array([ 5.789, 10.047, -3.529], dtype=float32), array([ 2.559, 12.039, -3.668], dtype=float32), array([ 1.444, 10.773, -6.688], dtype=float32), array([ 1.62 ,  7.344, -5.648], dtype=float32), array([-0.071,  7.738, -2.639], dtype=float32), array([-2.775,  9.516, -4.215], dtype=float32), array([-3.201,  7.035, -6.445], dtype=float32), array([-3.402,  4.594, -4.074], dtype=float32), array([-5.707,  6.199, -2.24 ], dtype=float32), array([-7.789,  6.586, -4.918], dtype=float32), array([-7.695,  3.037, -5.477], dtype=float32), array([-8.625,  2.311, -2.342], dtype=float32), array([-11.391,   4.336,  -2.307], dtype=float32), array([-12.68 ,   3.025,  -5.199], dtype=float32), array([-12.594,  -0.215,  -3.84 ], dtype=float32), array([-14.227,   0.467,  -1.041], dtype=float32), array([-16.922,   1.816,  -2.883], dtype=float32), array([-17.266,  -1.031,  -4.73 ], dtype=float32), array([-17.562,  -2.994,  -1.776], dtype=float32), array([-20.156,  -1.04 ,  -0.505], dtype=float32), array([-22.078,  -1.568,  -3.564], dtype=float32), array([-21.078,  -5.605,  -3.121], dtype=float32), array([-21.234,  -6.32 ,   0.775], dtype=float32), array([-18.938,  -3.619,   2.434], dtype=float32), array([-18.578,  -5.238,   5.387], dtype=float32), array([-18.266,  -4.391,   7.977], dtype=float32), array([-15.594,  -2.639,   8.633], dtype=float32), array([-14.469,  -3.527,  11.742], dtype=float32), array([-13.43 ,   1.01 ,  11.641], dtype=float32), array([-10.086,   0.583,  13.375], dtype=float32), array([-9.625,  2.674,  9.695], dtype=float32), array([-9.289,  5.699,  9.352], dtype=float32), array([-7.906,  7.984,  6.477], dtype=float32), array([-7.395,  9.891,  9.922], dtype=float32), array([-4.051,  7.234, 10.305], dtype=float32), array([-4.129, 10.062,  7.594], dtype=float32), array([-0.407, 10.016,  8.07 ], dtype=float32), array([ 0.593, 13.43 ,  8.141], dtype=float32), array([ 4.852, 13.523,  7.262], dtype=float32), array([ 4.285, 17.438,  6.301], dtype=float32), array([ 4.188, 18.719, 10.383], dtype=float32), array([ 8.258, 17.781, 10.633], dtype=float32), array([ 8.891, 21.25 ,  8.797], dtype=float32), array([ 8.648, 23.344, 11.758], dtype=float32), array([11.195, 21.547, 14.133], dtype=float32), array([14.305, 20.859, 11.492], dtype=float32), array([14.055, 25.094, 10.344], dtype=float32), array([14.781, 23.75 , 14.695], dtype=float32)]}}\n",
            "Sequence Recovery Rate: 0.04472843450479233\n",
            "\n",
            "Design 939 residues from file /content/drive/My Drive/PDB/NHisSIP.pdb chain A (ignore residues without coordinates)\n",
            "\n",
            "native sequence:\n",
            "HHHHHHSSGENLYFQGMPSTLSPVVLIAIWTFTLAVSGFPINEKGNDDIVCFPSKSRADLAICFDMNASVFQFVRKESNKRPDQLIDAGDILLSKLKSKVRSMEKRGFDSINFPGTIDGFKDYSSNKKERLL\n",
            "\n",
            "sequence by ProteinMPNN: (recovery: 4.473\tnssr: 68.705)\n",
            "FLINSIKAASWLSCSKCCKPDTFGRPPTRGQTYCLGWGYRMKEDQIPYLFRVYWRSAFHAMIQCFLKNVQEIHEMAKYKDLHFNHGDRQANLAAPTNTIPCGMKKPIIVDSHAPVDTHFTGMTNMFNTENTFYFMHSVDDDWALQLDVDGPQAITLMNQYYGKKLLTVDVLVVYKHIHEMLFILCNLGVADPQWEHPFFSGMLFWAERSVWAPGSIWNQPGFHEDHHQEAGHKVMRQPMTAGWPMDMLNNPPRVIDSWNNLNTMVWCNCVCAIQPCYVICPWASGVMMDLMMWTNDNFNMEKAITRLVKLYFKVIRNYRIEIIRMITERWLFLDTKQGEIVAICFFGSCQRELCKHMFEMWLTLNAATMNWIVVKCQQCTIGRMCNLFHAKSMGNEPIMGNKKKWLEKLWSMHCRRPTGHCQTTVAPRILHYPNFQRFEAERAMSCFHTWSQNKQREHQTMHSAAVRIKARKAPMMRAEGIRALLLPRRYCRHTETPCIRQYPIFGWVLQGQEYNSDRCVRCEHNEESRWKDEAQLHASVWEWKQSFVFKNIRNMYLSFLYGNETCPPHTWWEEKLFFQPQTFSCLADDDMMTQSICPQGIYWPHYTLCCPMFEPQEMTNENAMYAAWVLSVNYVKKCRSDPFVSVCMVNLKLYIPQDFHWWFIISMGIVHPTWHWKWQSWSHAFNVSMEPDGLCCVEMNSCQPHDWPHVVSFGQPPPECRPYGGCQVWVFRFALATVYYKHSWGIMNAIEMNEANQRYHWYDMQGFVIYKWQICNMDGGLVHLFNCPSVRDWYGMYRPVQQSDFGMIAFWFDCVGLIYVDYSIGRFDDRTVFQIQQIMCQLNIRYNYQKSSTPQMQLQNIKQIDCAYLAHPAIEICLETGRYGDDTVTGYWVSACFDAPESPTQHPTVQATDIYHNTQMPSGMNGKKQCMVHTRQHKC\n",
            "\n",
            "sequence by ProRefiner + ProteinMPNN: (recovery: 4.473\tnssr: 75.540)\n",
            "MREPFTSYGNKALQEWLYHMQFWQQPKVSHRPTRYLHGKIANVILNYEMLYRQTRWVLAAERKVYLIKYMTGAMLQCHNMTFMGNPPNPEAYYIYAINWQNQYVTNVEKTDWNQQTLCTVFNAMLAPMKKSRMQWYIVRCNRGWTAYWYDCPDMTTEDKVHERAHLGQNDGGLHNWNTRDCGCYYHLERGLSGFEVYSAEVCIWTMKMGMPESGQMWCENCIDKVLVCGVAVIPEMHFRPSGRRSERAKCFEPKTKQYHLKEECAGMPWEHLQYVMAAQGPGSTHHRAVYFEPGKNGMCPRCYPFIEIKCNTGLECPMKRVRHCIMLKNFCADGHFYLKNRYHYYKLTTNYNTPYVIPWASWMLLTEPMAIAWKSMRMHLLRCTRHKYWGKPTELVGKTHQVKCTFLPVEGDEWFYHMWEELHDQYVWSYTLWFIIAEGKMFMQYMRYETEPHVSDAQLYIRQCVECAWDASDARFFWNLNGIPILSYRPFQGCFDSHVMRSSNWWIVLIESNVHDKEDQPCQQTEHDPSGWCTPHPPMYQAPCYNPLLMWRWLRWQSWFDVIRRGEWADNLAQKHGWPETPYICKNTFMDEAIFPDWATWNDMDENGPERHSAKGWCYLWPNYPAWMYAPYWNDQIQCAIAAETGYNQKKLIRKMLTQDCHSVEFGSSYKQIGNCLSVWALWTNEGSSQQWNDKSIQNLPKCMWGANESTECDHQWEQYSMQNLQDWPKTFKYVLWPFDKKGNDESVFYCKVRHCKRHVGHLQQCAMWMHACNRNYGFFHYNDDIHCVAEKCCLVANGRNCELVISNELMGWSFQCVKVPVYMMYFFSSGMIAMQFVRWQQQDFVYGSFMWGTHDLSMFTMGLFMFEWGITKLKMIYHKNNMMSTWLFTQHPHVIKGSPYTITGMCDWYDPYNYDWMWHTWVTVVMIKNWCWNQKCNA\n"
          ]
        }
      ]
    },
    {
      "cell_type": "code",
      "source": [],
      "metadata": {
        "id": "VZpb4NDcCigY"
      },
      "execution_count": 4,
      "outputs": []
    }
  ]
}